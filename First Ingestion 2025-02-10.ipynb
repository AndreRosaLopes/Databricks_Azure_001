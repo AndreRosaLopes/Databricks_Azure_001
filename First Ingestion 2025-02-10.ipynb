{
 "cells": [
  {
   "cell_type": "markdown",
   "metadata": {
    "application/vnd.databricks.v1+cell": {
     "cellMetadata": {},
     "inputWidgets": {},
     "nuid": "378ba45e-ab85-43d0-8840-cdad737a05c8",
     "showTitle": false,
     "tableResultSettingsMap": {},
     "title": ""
    }
   },
   "source": [
    "## Mount bronze, silver and gold"
   ]
  },
  {
   "cell_type": "code",
   "execution_count": 0,
   "metadata": {
    "application/vnd.databricks.v1+cell": {
     "cellMetadata": {
      "byteLimit": 2048000,
      "rowLimit": 10000
     },
     "inputWidgets": {},
     "nuid": "4ce91a98-70e4-40d3-8812-dc0ff188a776",
     "showTitle": false,
     "tableResultSettingsMap": {},
     "title": ""
    }
   },
   "outputs": [],
   "source": [
    "dbutils.fs.mount(\n",
    "    source = \"wasbs://bronze@azuredatabricks2025.blob.core.windows.net\",\n",
    "    mount_point = \"/mnt/azuredatabricks2025/bronze\",\n",
    "    extra_configs = {\"fs.azure.account.key.azuredatabricks2025.blob.core.windows.net\":\"Ve2dpVvh2OgTxe/x0zPI+4Ur1GF7laVxQPasdn/dXFzusCcohVGR3W9xHaMrY6WIKLToDMiW1GDY+AStkofb2g==\"}\n",
    ")"
   ]
  },
  {
   "cell_type": "code",
   "execution_count": 0,
   "metadata": {
    "application/vnd.databricks.v1+cell": {
     "cellMetadata": {
      "byteLimit": 2048000,
      "rowLimit": 10000
     },
     "inputWidgets": {},
     "nuid": "ffbc6b0a-17bb-4b54-931a-203333e2ee49",
     "showTitle": false,
     "tableResultSettingsMap": {},
     "title": ""
    }
   },
   "outputs": [],
   "source": [
    "dbutils.fs.mount(\n",
    "    source = \"wasbs://silver@azuredatabricks2025.blob.core.windows.net\",\n",
    "    mount_point = \"/mnt/azuredatabricks2025/silver\",\n",
    "    extra_configs = {\"fs.azure.account.key.azuredatabricks2025.blob.core.windows.net\":\"Ve2dpVvh2OgTxe/x0zPI+4Ur1GF7laVxQPasdn/dXFzusCcohVGR3W9xHaMrY6WIKLToDMiW1GDY+AStkofb2g==\"}\n",
    ")"
   ]
  },
  {
   "cell_type": "code",
   "execution_count": 0,
   "metadata": {
    "application/vnd.databricks.v1+cell": {
     "cellMetadata": {
      "byteLimit": 2048000,
      "rowLimit": 10000
     },
     "inputWidgets": {},
     "nuid": "600de667-2271-432c-a155-e3572ba1fc0f",
     "showTitle": false,
     "tableResultSettingsMap": {},
     "title": ""
    }
   },
   "outputs": [],
   "source": [
    "dbutils.fs.mount(\n",
    "    source = \"wasbs://gold@azuredatabricks2025.blob.core.windows.net\",\n",
    "    mount_point = \"/mnt/azuredatabricks2025/gold\",\n",
    "    extra_configs = {\"fs.azure.account.key.azuredatabricks2025.blob.core.windows.net\":\"Ve2dpVvh2OgTxe/x0zPI+4Ur1GF7laVxQPasdn/dXFzusCcohVGR3W9xHaMrY6WIKLToDMiW1GDY+AStkofb2g==\"}\n",
    ")"
   ]
  },
  {
   "cell_type": "markdown",
   "metadata": {
    "application/vnd.databricks.v1+cell": {
     "cellMetadata": {},
     "inputWidgets": {},
     "nuid": "aed090a8-3a5c-479c-8205-3869108b20e8",
     "showTitle": false,
     "tableResultSettingsMap": {},
     "title": ""
    }
   },
   "source": [
    "## Creating a database"
   ]
  },
  {
   "cell_type": "code",
   "execution_count": 0,
   "metadata": {
    "application/vnd.databricks.v1+cell": {
     "cellMetadata": {
      "byteLimit": 2048000,
      "implicitDf": true,
      "rowLimit": 10000
     },
     "inputWidgets": {},
     "nuid": "88901a0c-8d43-4dbf-938b-e252a620fbe3",
     "showTitle": false,
     "tableResultSettingsMap": {},
     "title": ""
    }
   },
   "outputs": [],
   "source": [
    "%sql\n",
    "CREATE DATABASE IF NOT EXISTS COVID"
   ]
  },
  {
   "cell_type": "markdown",
   "metadata": {
    "application/vnd.databricks.v1+cell": {
     "cellMetadata": {},
     "inputWidgets": {},
     "nuid": "cf1e94d2-1c68-4915-9c69-bcebd88e2f12",
     "showTitle": false,
     "tableResultSettingsMap": {},
     "title": ""
    }
   },
   "source": [
    "## Reading csv files from bronze layer"
   ]
  },
  {
   "cell_type": "code",
   "execution_count": 0,
   "metadata": {
    "application/vnd.databricks.v1+cell": {
     "cellMetadata": {
      "byteLimit": 2048000,
      "rowLimit": 10000
     },
     "inputWidgets": {},
     "nuid": "67f2be27-aae7-43c7-be02-35b3177489c2",
     "showTitle": false,
     "tableResultSettingsMap": {},
     "title": ""
    }
   },
   "outputs": [],
   "source": [
    "df_covid_br_bronze = spark.read.format(\"csv\")\\\n",
    "    .option(\"header\", \"true\")\\\n",
    "    .option(\"inferSchema\", \"true\")\\\n",
    "    .option(\"delimiter\", \";\")\\\n",
    "    .load(\"/mnt/azuredatabricks2025/bronze/SRAG_01-06_2025.csv\")"
   ]
  },
  {
   "cell_type": "code",
   "execution_count": 0,
   "metadata": {
    "application/vnd.databricks.v1+cell": {
     "cellMetadata": {
      "byteLimit": 2048000,
      "rowLimit": 10000
     },
     "inputWidgets": {},
     "nuid": "94f6755b-4ba6-48fc-9c81-bfd08583c87e",
     "showTitle": false,
     "tableResultSettingsMap": {},
     "title": ""
    }
   },
   "outputs": [],
   "source": [
    "df_covid_br_bronze.display()"
   ]
  },
  {
   "cell_type": "markdown",
   "metadata": {
    "application/vnd.databricks.v1+cell": {
     "cellMetadata": {},
     "inputWidgets": {},
     "nuid": "1bad485b-ab4d-4deb-9728-53b90974b9ee",
     "showTitle": false,
     "tableResultSettingsMap": {},
     "title": ""
    }
   },
   "source": [
    "## Siver layer"
   ]
  },
  {
   "cell_type": "code",
   "execution_count": 0,
   "metadata": {
    "application/vnd.databricks.v1+cell": {
     "cellMetadata": {
      "byteLimit": 2048000,
      "rowLimit": 10000
     },
     "inputWidgets": {},
     "nuid": "fd41a82c-3d58-476a-8765-76c8936375c0",
     "showTitle": false,
     "tableResultSettingsMap": {},
     "title": ""
    }
   },
   "outputs": [],
   "source": [
    "df_covid_br_silver = df_covid_br_bronze.filter(df_covid_br_bronze.ID_REGIONA.isNotNull())"
   ]
  },
  {
   "cell_type": "markdown",
   "metadata": {
    "application/vnd.databricks.v1+cell": {
     "cellMetadata": {},
     "inputWidgets": {},
     "nuid": "64769143-0729-4ce0-ab99-236ce79be7db",
     "showTitle": false,
     "tableResultSettingsMap": {},
     "title": ""
    }
   },
   "source": [
    "Writing a parquet file with delta!"
   ]
  },
  {
   "cell_type": "code",
   "execution_count": 0,
   "metadata": {
    "application/vnd.databricks.v1+cell": {
     "cellMetadata": {
      "byteLimit": 2048000,
      "rowLimit": 10000
     },
     "inputWidgets": {},
     "nuid": "23b2a873-88ce-4c00-873b-06ff4c401255",
     "showTitle": false,
     "tableResultSettingsMap": {},
     "title": ""
    }
   },
   "outputs": [],
   "source": [
    "df_covid_br_silver.write.format(\"delta\").mode(\"overwrite\").save(\"/mnt/azuredatabricks2025/silver/covid_br\")"
   ]
  },
  {
   "cell_type": "markdown",
   "metadata": {
    "application/vnd.databricks.v1+cell": {
     "cellMetadata": {},
     "inputWidgets": {},
     "nuid": "1fb9670a-7927-442e-83ed-1dd270b671ac",
     "showTitle": false,
     "tableResultSettingsMap": {},
     "title": ""
    }
   },
   "source": [
    "now, take a look at Azure silver container. We have:\n",
    "\n",
    "delta log (json? where can I see it?) </br>\n",
    "part-0000X (parquet files: where can I check it?)"
   ]
  },
  {
   "cell_type": "code",
   "execution_count": 0,
   "metadata": {
    "application/vnd.databricks.v1+cell": {
     "cellMetadata": {
      "byteLimit": 2048000,
      "rowLimit": 10000
     },
     "inputWidgets": {},
     "nuid": "cf1a1bae-3fa4-413b-88db-afccf1f643e1",
     "showTitle": false,
     "tableResultSettingsMap": {},
     "title": ""
    }
   },
   "outputs": [],
   "source": [
    "# Garanta que a estrutura Delta existe\n",
    "\n",
    "display(spark.read.format(\"delta\").load(\"/mnt/azuredatabricks2025/silver/covid_br\"))"
   ]
  },
  {
   "cell_type": "code",
   "execution_count": 0,
   "metadata": {
    "application/vnd.databricks.v1+cell": {
     "cellMetadata": {
      "byteLimit": 2048000,
      "rowLimit": 10000
     },
     "inputWidgets": {},
     "nuid": "b5488f48-9f72-4869-b7d4-a2b3af2f94c5",
     "showTitle": false,
     "tableResultSettingsMap": {},
     "title": ""
    }
   },
   "outputs": [],
   "source": [
    "df = spark.read.format(\"delta\").load(\"/mnt/azuredatabricks2025/silver/covid_br\")\n",
    "\n",
    "df.write.mode(\"overwrite\").saveAsTable(\"silver.br_covid\")"
   ]
  },
  {
   "cell_type": "code",
   "execution_count": 0,
   "metadata": {
    "application/vnd.databricks.v1+cell": {
     "cellMetadata": {
      "byteLimit": 2048000,
      "implicitDf": true,
      "rowLimit": 10000
     },
     "inputWidgets": {},
     "nuid": "75392f80-b6c4-4f99-b0e5-fb9076089383",
     "showTitle": false,
     "tableResultSettingsMap": {},
     "title": ""
    }
   },
   "outputs": [],
   "source": [
    "%sql\n",
    "SELECT * FROM pipelinedatabricks.silver.br_covid LIMIT 10;"
   ]
  },
  {
   "cell_type": "markdown",
   "metadata": {
    "application/vnd.databricks.v1+cell": {
     "cellMetadata": {},
     "inputWidgets": {},
     "nuid": "41ee2bf6-d34f-4aba-a44d-21725b012b93",
     "showTitle": false,
     "tableResultSettingsMap": {},
     "title": ""
    }
   },
   "source": [
    "CREATE TABLE IF NOT EXISTS pipelinedatabricks.covid.br_covid\n",
    "USING DELTA\n",
    "LOCATION 'dbfs:/mnt/azuredatabricks2025/silver/covid_br'"
   ]
  },
  {
   "cell_type": "code",
   "execution_count": 0,
   "metadata": {
    "application/vnd.databricks.v1+cell": {
     "cellMetadata": {
      "byteLimit": 2048000,
      "rowLimit": 10000
     },
     "inputWidgets": {},
     "nuid": "f3d4feac-739f-45f9-b8c5-3cefa3072115",
     "showTitle": false,
     "tableResultSettingsMap": {},
     "title": ""
    }
   },
   "outputs": [],
   "source": [
    "# import function for gold layer:\n",
    "from pyspark.sql.functions import concat, to_date, year, month, current_timestamp, count"
   ]
  },
  {
   "cell_type": "code",
   "execution_count": 0,
   "metadata": {
    "application/vnd.databricks.v1+cell": {
     "cellMetadata": {
      "byteLimit": 2048000,
      "rowLimit": 10000
     },
     "inputWidgets": {},
     "nuid": "5d769bfa-b611-4b95-afe7-21743f7d712b",
     "showTitle": false,
     "tableResultSettingsMap": {},
     "title": ""
    }
   },
   "outputs": [],
   "source": [
    "df_covid_br_silver = spark.read.format(\"delta\").load(\"/mnt/azuredatabricks2025/silver/covid_br\")"
   ]
  },
  {
   "cell_type": "code",
   "execution_count": 0,
   "metadata": {
    "application/vnd.databricks.v1+cell": {
     "cellMetadata": {
      "byteLimit": 2048000,
      "rowLimit": 10000
     },
     "inputWidgets": {},
     "nuid": "01165aab-5fe0-4fb8-9f00-2e6db4e22106",
     "showTitle": false,
     "tableResultSettingsMap": {},
     "title": ""
    }
   },
   "outputs": [],
   "source": [
    "# Convert strings to dates\n",
    "\n",
    "df_covid_br_silver = df_covid_br_silver.withColumn(\"DT_NOTIFIC\", to_date(df_covid_br_silver['DT_NOTIFIC']))\n",
    "df_covid_br_silver = df_covid_br_silver.withColumn(\"DT_SIN_PRI\", to_date(df_covid_br_silver['DT_SIN_PRI']))\n",
    "df_covid_br_silver = df_covid_br_silver.withColumn(\"DT_NASC\", to_date(df_covid_br_silver['DT_NASC']))"
   ]
  },
  {
   "cell_type": "code",
   "execution_count": 0,
   "metadata": {
    "application/vnd.databricks.v1+cell": {
     "cellMetadata": {
      "byteLimit": 2048000,
      "rowLimit": 10000
     },
     "inputWidgets": {},
     "nuid": "91749b30-2ed0-42bb-8f4d-6e319bd76ffb",
     "showTitle": false,
     "tableResultSettingsMap": {},
     "title": ""
    }
   },
   "outputs": [],
   "source": [
    "display(df_covid_br_silver)\n"
   ]
  },
  {
   "cell_type": "code",
   "execution_count": 0,
   "metadata": {
    "application/vnd.databricks.v1+cell": {
     "cellMetadata": {
      "byteLimit": 2048000,
      "rowLimit": 10000
     },
     "inputWidgets": {},
     "nuid": "c2b65a71-6096-4b90-ae46-f3cd2a4e2c53",
     "showTitle": false,
     "tableResultSettingsMap": {},
     "title": ""
    }
   },
   "outputs": [],
   "source": [
    "# Adding a new collumn with the current timestamp\n",
    "\n",
    "df_covid_br_gold = df_covid_br_silver.withColumn(\"load_timestamp\", current_timestamp())\n",
    "\n",
    "#Renaming columns\n",
    "df_covid_br_gold = df_covid_br_gold.withColumnRenamed(\"DT_NOTIFIC\", \"DT_NOTIFICACAO\")\\\n",
    "                                   .withColumnRenamed(\"DT_SIN_PRI\", \"DT_PRIMEIROS_SINTOMAS\")\\\n",
    "                                   .withColumnRenamed(\"DT_NASC\", \"DT_NASCIMENTO\")\n"
   ]
  },
  {
   "cell_type": "code",
   "execution_count": 0,
   "metadata": {
    "application/vnd.databricks.v1+cell": {
     "cellMetadata": {
      "byteLimit": 2048000,
      "rowLimit": 10000
     },
     "inputWidgets": {},
     "nuid": "e59ee5f3-1156-43c5-8dff-ef1f470790ee",
     "showTitle": false,
     "tableResultSettingsMap": {},
     "title": ""
    }
   },
   "outputs": [],
   "source": [
    "# Adding new collumns: year and month of the notification\n",
    "df_covid_br_gold = df_covid_br_gold.withColumn(\"YEAR_NOTIFICACAO\", year(\"DT_NOTIFICACAO\"))\\\n",
    "                                    .withColumn(\"MONTH_NOTIFICACAO\", month(\"DT_NOTIFICACAO\"))"
   ]
  },
  {
   "cell_type": "code",
   "execution_count": 0,
   "metadata": {
    "application/vnd.databricks.v1+cell": {
     "cellMetadata": {
      "byteLimit": 2048000,
      "rowLimit": 10000
     },
     "inputWidgets": {},
     "nuid": "839be5ee-4b98-4988-89bc-7eb10e70dc7a",
     "showTitle": false,
     "tableResultSettingsMap": {},
     "title": ""
    }
   },
   "outputs": [],
   "source": [
    "# Saving into Delta Lake, partion by year and month of notification\n",
    "df_covid_br_gold.write.mode(\"overwrite\").partitionBy(\"YEAR_NOTIFICACAO\", \"MONTH_NOTIFICACAO\").save(\"/mnt/azuredatabricks2025/gold/covid_br\")"
   ]
  },
  {
   "cell_type": "code",
   "execution_count": 0,
   "metadata": {
    "application/vnd.databricks.v1+cell": {
     "cellMetadata": {
      "byteLimit": 2048000,
      "rowLimit": 10000
     },
     "inputWidgets": {},
     "nuid": "68398b67-1a5d-4d7f-a065-8c720a801b1b",
     "showTitle": false,
     "tableResultSettingsMap": {},
     "title": ""
    }
   },
   "outputs": [],
   "source": [
    "# Creating the gold schema:\n",
    "spark.sql(\"CREATE SCHEMA IF NOT EXISTS gold\")\n"
   ]
  },
  {
   "cell_type": "code",
   "execution_count": 0,
   "metadata": {
    "application/vnd.databricks.v1+cell": {
     "cellMetadata": {
      "byteLimit": 2048000,
      "rowLimit": 10000
     },
     "inputWidgets": {},
     "nuid": "528fb83d-4f40-49e5-b426-ff8a9c27e76e",
     "showTitle": false,
     "tableResultSettingsMap": {},
     "title": ""
    }
   },
   "outputs": [],
   "source": [
    "# Creating the gold table:\n",
    "spark.sql(\"DROP TABLE IF EXISTS gold.br_covid\") \n",
    "spark.sql(\"CREATE TABLE gold.br_covid\")   \n",
    "\n",
    "#df_covid_br_gold.write.mode(\"overwrite\").saveAsTable(\"gold.br_covid\")"
   ]
  },
  {
   "cell_type": "code",
   "execution_count": 0,
   "metadata": {
    "application/vnd.databricks.v1+cell": {
     "cellMetadata": {
      "byteLimit": 2048000,
      "rowLimit": 10000
     },
     "inputWidgets": {},
     "nuid": "e81a4f2e-9874-443c-875e-79cd757d4aa8",
     "showTitle": false,
     "tableResultSettingsMap": {},
     "title": ""
    }
   },
   "outputs": [],
   "source": [
    "df_covid_br_gold.write\\\n",
    "    .mode(\"overwrite\")\\\n",
    "    .partitionBy(\"YEAR_NOTIFICACAO\", \"MONTH_NOTIFICACAO\")\\\n",
    "    .option(\"mergeSchema\", \"true\")\\\n",
    "    .option(\"overwriteSchema\", \"true\")\\\n",
    "    .saveAsTable(\"gold.br_covid\")"
   ]
  },
  {
   "cell_type": "code",
   "execution_count": 0,
   "metadata": {
    "application/vnd.databricks.v1+cell": {
     "cellMetadata": {
      "byteLimit": 2048000,
      "implicitDf": true,
      "rowLimit": 10000
     },
     "inputWidgets": {},
     "nuid": "3983643c-c760-4832-b414-0cef5197403c",
     "showTitle": false,
     "tableResultSettingsMap": {},
     "title": ""
    }
   },
   "outputs": [],
   "source": [
    "%sql\n",
    "select * from pipelinedatabricks.gold.br_covid limit 10;"
   ]
  },
  {
   "cell_type": "code",
   "execution_count": 0,
   "metadata": {
    "application/vnd.databricks.v1+cell": {
     "cellMetadata": {
      "byteLimit": 2048000,
      "rowLimit": 10000
     },
     "inputWidgets": {},
     "nuid": "7cd1030b-e5f4-46ae-bc03-309d6fce615e",
     "showTitle": false,
     "tableResultSettingsMap": {},
     "title": ""
    }
   },
   "outputs": [],
   "source": [
    "# Aggregate the number of cases by month, DT_NOTIFICACAO, SG_UF_NOT and ID_MUNICIP:\n",
    "select_columns = [\"YEAR_NOTIFICACAO\", \"MONTH_NOTIFICACAO\", \"SG_UF_NOT\", \"ID_MUNICIP\", \"load_timestamp\"]\n",
    "df_select_columns_gold = df_covid_br_gold.select(select_columns)\n",
    "grouped_df = df_select_columns_gold.groupBy(\"YEAR_NOTIFICACAO\", \"MONTH_NOTIFICACAO\", \"SG_UF_NOT\", \"ID_MUNICIP\").agg(count(\"*\").alias(\"cases_counting\"))"
   ]
  },
  {
   "cell_type": "code",
   "execution_count": 0,
   "metadata": {
    "application/vnd.databricks.v1+cell": {
     "cellMetadata": {
      "byteLimit": 2048000,
      "rowLimit": 10000
     },
     "inputWidgets": {},
     "nuid": "bea67cd4-003d-49f2-ab67-cca0d459a070",
     "showTitle": false,
     "tableResultSettingsMap": {},
     "title": ""
    }
   },
   "outputs": [],
   "source": [
    "display(grouped_df)"
   ]
  },
  {
   "cell_type": "code",
   "execution_count": 0,
   "metadata": {
    "application/vnd.databricks.v1+cell": {
     "cellMetadata": {
      "byteLimit": 2048000,
      "rowLimit": 10000
     },
     "inputWidgets": {},
     "nuid": "f2411fab-7a84-4d20-b8da-f6e2d21e13e7",
     "showTitle": false,
     "tableResultSettingsMap": {},
     "title": ""
    }
   },
   "outputs": [],
   "source": [
    "# Saving the aggregated data into gold inside the Delta Lake:\n",
    "\n",
    "grouped_df.write.mode(\"overwrite\").partitionBy(\"YEAR_NOTIFICACAO\", \"MONTH_NOTIFICACAO\").save(\"/mnt/azuredatabricks2025/gold/covid_br_cases_counting\")"
   ]
  },
  {
   "cell_type": "code",
   "execution_count": 0,
   "metadata": {
    "application/vnd.databricks.v1+cell": {
     "cellMetadata": {
      "byteLimit": 2048000,
      "rowLimit": 10000
     },
     "inputWidgets": {},
     "nuid": "a36834b7-74e7-4848-a0e5-3884a2523590",
     "showTitle": false,
     "tableResultSettingsMap": {},
     "title": ""
    }
   },
   "outputs": [],
   "source": [
    "# Saving table:\n",
    "# Creating the gold agg table:\n",
    "spark.sql(\"DROP TABLE IF EXISTS gold.covid_br_cases_counting\") \n",
    "spark.sql(\"CREATE TABLE gold.covid_br_cases_counting\")   \n",
    "\n",
    "\n",
    "grouped_df.write\\\n",
    "    .mode(\"overwrite\")\\\n",
    "    .partitionBy(\"YEAR_NOTIFICACAO\", \"MONTH_NOTIFICACAO\")\\\n",
    "    .option(\"mergeSchema\", \"true\")\\\n",
    "    .option(\"overwriteSchema\", \"true\")\\\n",
    "    .saveAsTable(\"gold.covid_br_cases_counting\")"
   ]
  }
 ],
 "metadata": {
  "application/vnd.databricks.v1+notebook": {
   "computePreferences": null,
   "dashboards": [],
   "environmentMetadata": {
    "base_environment": "",
    "environment_version": "2"
   },
   "language": "python",
   "notebookMetadata": {
    "mostRecentlyExecutedCommandWithImplicitDF": {
     "commandId": 5105629517771222,
     "dataframes": [
      "_sqldf"
     ]
    },
    "pythonIndentUnit": 4
   },
   "notebookName": "First Ingestion 2025-02-10",
   "widgets": {}
  },
  "language_info": {
   "name": "python"
  }
 },
 "nbformat": 4,
 "nbformat_minor": 0
}
